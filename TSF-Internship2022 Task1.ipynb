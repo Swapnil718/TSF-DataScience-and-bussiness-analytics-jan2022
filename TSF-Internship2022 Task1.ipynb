{
 "cells": [
  {
   "cell_type": "markdown",
   "id": "3ff37c00-34f8-451c-ba38-4dfc000d8e60",
   "metadata": {
    "tags": []
   },
   "source": [
    "# SIMPLE LINEAR REGRESSION"
   ]
  },
  {
   "cell_type": "markdown",
   "id": "4e4ce5a2-a570-4474-802c-b914c883365c",
   "metadata": {},
   "source": [
    "## Task-1:Prediction using Supervised ML"
   ]
  },
  {
   "cell_type": "code",
   "execution_count": null,
   "id": "cd276cc0-d363-4e68-895b-30bb9d357745",
   "metadata": {},
   "outputs": [],
   "source": [
    " In given task we have to predict the percentage of marks expected by the student based upon the number of hours they studied.\n",
    " In this task only two variables are involved"
   ]
  },
  {
   "cell_type": "markdown",
   "id": "012abe17-956b-45d0-8a0f-0657406dce79",
   "metadata": {},
   "source": [
    "## Importing libraries :"
   ]
  },
  {
   "cell_type": "code",
   "execution_count": 1,
   "id": "f6e91535-ca73-45a5-942c-ce6a686a54e2",
   "metadata": {},
   "outputs": [],
   "source": [
    "import numpy as np \n",
    "import pandas as pd \n",
    "from scipy import stats\n",
    "import matplotlib.pyplot as plt\n",
    "import seaborn as sns\n",
    "from sklearn.linear_model import LinearRegression\n",
    "from sklearn.model_selection import train_test_split\n",
    "%matplotlib inline"
   ]
  },
  {
   "cell_type": "code",
   "execution_count": 2,
   "id": "ba2bead6-84b2-4f5c-94dc-35b2e7f50c65",
   "metadata": {},
   "outputs": [
    {
     "name": "stdout",
     "output_type": "stream",
     "text": [
      "The data is imported successfully\n"
     ]
    },
    {
     "data": {
      "text/html": [
       "<div>\n",
       "<style scoped>\n",
       "    .dataframe tbody tr th:only-of-type {\n",
       "        vertical-align: middle;\n",
       "    }\n",
       "\n",
       "    .dataframe tbody tr th {\n",
       "        vertical-align: top;\n",
       "    }\n",
       "\n",
       "    .dataframe thead th {\n",
       "        text-align: right;\n",
       "    }\n",
       "</style>\n",
       "<table border=\"1\" class=\"dataframe\">\n",
       "  <thead>\n",
       "    <tr style=\"text-align: right;\">\n",
       "      <th></th>\n",
       "      <th>Hours</th>\n",
       "      <th>Scores</th>\n",
       "    </tr>\n",
       "  </thead>\n",
       "  <tbody>\n",
       "    <tr>\n",
       "      <th>0</th>\n",
       "      <td>2.5</td>\n",
       "      <td>21</td>\n",
       "    </tr>\n",
       "    <tr>\n",
       "      <th>1</th>\n",
       "      <td>5.1</td>\n",
       "      <td>47</td>\n",
       "    </tr>\n",
       "    <tr>\n",
       "      <th>2</th>\n",
       "      <td>3.2</td>\n",
       "      <td>27</td>\n",
       "    </tr>\n",
       "    <tr>\n",
       "      <th>3</th>\n",
       "      <td>8.5</td>\n",
       "      <td>75</td>\n",
       "    </tr>\n",
       "    <tr>\n",
       "      <th>4</th>\n",
       "      <td>3.5</td>\n",
       "      <td>30</td>\n",
       "    </tr>\n",
       "    <tr>\n",
       "      <th>5</th>\n",
       "      <td>1.5</td>\n",
       "      <td>20</td>\n",
       "    </tr>\n",
       "    <tr>\n",
       "      <th>6</th>\n",
       "      <td>9.2</td>\n",
       "      <td>88</td>\n",
       "    </tr>\n",
       "    <tr>\n",
       "      <th>7</th>\n",
       "      <td>5.5</td>\n",
       "      <td>60</td>\n",
       "    </tr>\n",
       "    <tr>\n",
       "      <th>8</th>\n",
       "      <td>8.3</td>\n",
       "      <td>81</td>\n",
       "    </tr>\n",
       "    <tr>\n",
       "      <th>9</th>\n",
       "      <td>2.7</td>\n",
       "      <td>25</td>\n",
       "    </tr>\n",
       "    <tr>\n",
       "      <th>10</th>\n",
       "      <td>7.7</td>\n",
       "      <td>85</td>\n",
       "    </tr>\n",
       "    <tr>\n",
       "      <th>11</th>\n",
       "      <td>5.9</td>\n",
       "      <td>62</td>\n",
       "    </tr>\n",
       "    <tr>\n",
       "      <th>12</th>\n",
       "      <td>4.5</td>\n",
       "      <td>41</td>\n",
       "    </tr>\n",
       "    <tr>\n",
       "      <th>13</th>\n",
       "      <td>3.3</td>\n",
       "      <td>42</td>\n",
       "    </tr>\n",
       "    <tr>\n",
       "      <th>14</th>\n",
       "      <td>1.1</td>\n",
       "      <td>17</td>\n",
       "    </tr>\n",
       "    <tr>\n",
       "      <th>15</th>\n",
       "      <td>8.9</td>\n",
       "      <td>95</td>\n",
       "    </tr>\n",
       "    <tr>\n",
       "      <th>16</th>\n",
       "      <td>2.5</td>\n",
       "      <td>30</td>\n",
       "    </tr>\n",
       "    <tr>\n",
       "      <th>17</th>\n",
       "      <td>1.9</td>\n",
       "      <td>24</td>\n",
       "    </tr>\n",
       "    <tr>\n",
       "      <th>18</th>\n",
       "      <td>6.1</td>\n",
       "      <td>67</td>\n",
       "    </tr>\n",
       "    <tr>\n",
       "      <th>19</th>\n",
       "      <td>7.4</td>\n",
       "      <td>69</td>\n",
       "    </tr>\n",
       "    <tr>\n",
       "      <th>20</th>\n",
       "      <td>2.7</td>\n",
       "      <td>30</td>\n",
       "    </tr>\n",
       "    <tr>\n",
       "      <th>21</th>\n",
       "      <td>4.8</td>\n",
       "      <td>54</td>\n",
       "    </tr>\n",
       "    <tr>\n",
       "      <th>22</th>\n",
       "      <td>3.8</td>\n",
       "      <td>35</td>\n",
       "    </tr>\n",
       "    <tr>\n",
       "      <th>23</th>\n",
       "      <td>6.9</td>\n",
       "      <td>76</td>\n",
       "    </tr>\n",
       "    <tr>\n",
       "      <th>24</th>\n",
       "      <td>7.8</td>\n",
       "      <td>86</td>\n",
       "    </tr>\n",
       "  </tbody>\n",
       "</table>\n",
       "</div>"
      ],
      "text/plain": [
       "    Hours  Scores\n",
       "0     2.5      21\n",
       "1     5.1      47\n",
       "2     3.2      27\n",
       "3     8.5      75\n",
       "4     3.5      30\n",
       "5     1.5      20\n",
       "6     9.2      88\n",
       "7     5.5      60\n",
       "8     8.3      81\n",
       "9     2.7      25\n",
       "10    7.7      85\n",
       "11    5.9      62\n",
       "12    4.5      41\n",
       "13    3.3      42\n",
       "14    1.1      17\n",
       "15    8.9      95\n",
       "16    2.5      30\n",
       "17    1.9      24\n",
       "18    6.1      67\n",
       "19    7.4      69\n",
       "20    2.7      30\n",
       "21    4.8      54\n",
       "22    3.8      35\n",
       "23    6.9      76\n",
       "24    7.8      86"
      ]
     },
     "execution_count": 2,
     "metadata": {},
     "output_type": "execute_result"
    }
   ],
   "source": [
    "#Import the data\n",
    "url=\"http://bit.ly/w-data\"\n",
    "data=pd.read_csv(url)\n",
    "data1=data\n",
    "print(\"The data is imported successfully\")\n",
    "data"
   ]
  },
  {
   "cell_type": "markdown",
   "id": "28898165-cd16-41bd-95be-e2577a423603",
   "metadata": {
    "tags": []
   },
   "source": [
    "## Data Analysis :"
   ]
  },
  {
   "cell_type": "code",
   "execution_count": 3,
   "id": "0f3a0393-a3f1-4be0-9e81-312733c2e52e",
   "metadata": {},
   "outputs": [
    {
     "name": "stdout",
     "output_type": "stream",
     "text": [
      "dimension of student_score dataset : (m,n) = (25, 2)\n"
     ]
    }
   ],
   "source": [
    "#Dimension of the Hours_Score dataset :\n",
    "(m,n)=data.shape\n",
    "print(\"dimension of student_score dataset : (m,n) =\",(m,n))"
   ]
  },
  {
   "cell_type": "code",
   "execution_count": 4,
   "id": "beca97db-d8a8-43c3-9fb0-a29735b7e85c",
   "metadata": {},
   "outputs": [
    {
     "name": "stdout",
     "output_type": "stream",
     "text": [
      "<class 'pandas.core.frame.DataFrame'>\n",
      "RangeIndex: 25 entries, 0 to 24\n",
      "Data columns (total 2 columns):\n",
      " #   Column  Non-Null Count  Dtype  \n",
      "---  ------  --------------  -----  \n",
      " 0   Hours   25 non-null     float64\n",
      " 1   Scores  25 non-null     int64  \n",
      "dtypes: float64(1), int64(1)\n",
      "memory usage: 528.0 bytes\n"
     ]
    }
   ],
   "source": [
    "#information of the dataset\n",
    "data.info()"
   ]
  },
  {
   "cell_type": "code",
   "execution_count": 5,
   "id": "b03be719-68d2-41c0-a534-6715eab0a2b9",
   "metadata": {},
   "outputs": [
    {
     "data": {
      "text/html": [
       "<div>\n",
       "<style scoped>\n",
       "    .dataframe tbody tr th:only-of-type {\n",
       "        vertical-align: middle;\n",
       "    }\n",
       "\n",
       "    .dataframe tbody tr th {\n",
       "        vertical-align: top;\n",
       "    }\n",
       "\n",
       "    .dataframe thead th {\n",
       "        text-align: right;\n",
       "    }\n",
       "</style>\n",
       "<table border=\"1\" class=\"dataframe\">\n",
       "  <thead>\n",
       "    <tr style=\"text-align: right;\">\n",
       "      <th></th>\n",
       "      <th>Hours</th>\n",
       "      <th>Scores</th>\n",
       "    </tr>\n",
       "  </thead>\n",
       "  <tbody>\n",
       "    <tr>\n",
       "      <th>count</th>\n",
       "      <td>25.000000</td>\n",
       "      <td>25.000000</td>\n",
       "    </tr>\n",
       "    <tr>\n",
       "      <th>mean</th>\n",
       "      <td>5.012000</td>\n",
       "      <td>51.480000</td>\n",
       "    </tr>\n",
       "    <tr>\n",
       "      <th>std</th>\n",
       "      <td>2.525094</td>\n",
       "      <td>25.286887</td>\n",
       "    </tr>\n",
       "    <tr>\n",
       "      <th>min</th>\n",
       "      <td>1.100000</td>\n",
       "      <td>17.000000</td>\n",
       "    </tr>\n",
       "    <tr>\n",
       "      <th>25%</th>\n",
       "      <td>2.700000</td>\n",
       "      <td>30.000000</td>\n",
       "    </tr>\n",
       "    <tr>\n",
       "      <th>50%</th>\n",
       "      <td>4.800000</td>\n",
       "      <td>47.000000</td>\n",
       "    </tr>\n",
       "    <tr>\n",
       "      <th>75%</th>\n",
       "      <td>7.400000</td>\n",
       "      <td>75.000000</td>\n",
       "    </tr>\n",
       "    <tr>\n",
       "      <th>max</th>\n",
       "      <td>9.200000</td>\n",
       "      <td>95.000000</td>\n",
       "    </tr>\n",
       "  </tbody>\n",
       "</table>\n",
       "</div>"
      ],
      "text/plain": [
       "           Hours     Scores\n",
       "count  25.000000  25.000000\n",
       "mean    5.012000  51.480000\n",
       "std     2.525094  25.286887\n",
       "min     1.100000  17.000000\n",
       "25%     2.700000  30.000000\n",
       "50%     4.800000  47.000000\n",
       "75%     7.400000  75.000000\n",
       "max     9.200000  95.000000"
      ]
     },
     "execution_count": 5,
     "metadata": {},
     "output_type": "execute_result"
    }
   ],
   "source": [
    "#Description of the dataset\n",
    "data.describe()"
   ]
  },
  {
   "cell_type": "code",
   "execution_count": 25,
   "id": "3843b5c2-5a98-420e-bbfa-d53fe014e7f9",
   "metadata": {},
   "outputs": [
    {
     "data": {
      "image/png": "[encoded data removed]",
      "text/plain": [
       "<Figure size 720x360 with 2 Axes>"
      ]
     },
     "metadata": {
      "needs_background": "light"
     },
     "output_type": "display_data"
    }
   ],
   "source": [
    "fig, axs = plt.subplots(nrows=1, ncols=2, figsize=(10,5))\n",
    "axs[0].hist(data[\"Hours\"],bins=40,color='r')\n",
    "axs[1].hist(data['Scores'],bins=40,color='g')\n",
    "axs[0].title.set_text('StudyHours vs Frequency')\n",
    "axs[1].title.set_text('Scores vs Frequency')\n",
    "plt.show()"
   ]
  },
  {
   "cell_type": "markdown",
   "id": "bb0c128e-e292-4163-ade6-930640702c48",
   "metadata": {},
   "source": [
    "## Data Visualization :"
   ]
  },
  {
   "cell_type": "code",
   "execution_count": 7,
   "id": "d3056b56-5290-4261-bca6-5d393e4cd2f7",
   "metadata": {},
   "outputs": [
    {
     "data": {
      "text/plain": [
       "<Figure size 360x360 with 0 Axes>"
      ]
     },
     "metadata": {},
     "output_type": "display_data"
    },
    {
     "data": {
      "image/png": "[encoded data removed]",
      "text/plain": [
       "<Figure size 432x288 with 1 Axes>"
      ]
     },
     "metadata": {
      "needs_background": "light"
     },
     "output_type": "display_data"
    }
   ],
   "source": [
    "fig=plt.figure(figsize=(5,5))\n",
    "data.plot(kind=\"scatter\",x=\"Hours\",y=\"Scores\")\n",
    "plt.xlabel(\"no. of study hours\")\n",
    "plt.ylabel(\"Score of student\")\n",
    "plt.title(\"StudyHours vs Score\")\n",
    "plt.show()"
   ]
  },
  {
   "cell_type": "markdown",
   "id": "ebdaaef9-ae26-4a5e-b639-531c10633949",
   "metadata": {},
   "source": [
    "## Correlation :"
   ]
  },
  {
   "cell_type": "code",
   "execution_count": 8,
   "id": "01a9ada1-f707-4301-b666-0e8f3839491e",
   "metadata": {},
   "outputs": [
    {
     "name": "stdout",
     "output_type": "stream",
     "text": [
      "correlation coefficient :  0.9761906560220885\n",
      "p_value :  9.132624467459842e-17\n"
     ]
    }
   ],
   "source": [
    "r,p_value=stats.pearsonr(data.Hours,data.Scores)\n",
    "print(\"correlation coefficient : \",r)\n",
    "print(\"p_value : \",p_value)"
   ]
  },
  {
   "cell_type": "code",
   "execution_count": 9,
   "id": "84cdc251-d873-4552-974f-c06ec8795724",
   "metadata": {},
   "outputs": [
    {
     "data": {
      "image/png": "[encoded data removed]",
      "text/plain": [
       "<Figure size 432x288 with 2 Axes>"
      ]
     },
     "metadata": {
      "needs_background": "light"
     },
     "output_type": "display_data"
    }
   ],
   "source": [
    "corr_matrix=data.corr()\n",
    "sns.heatmap(corr_matrix,annot=True)\n",
    "plt.title(\"Correlation matrix\")\n",
    "plt.show()"
   ]
  },
  {
   "cell_type": "code",
   "execution_count": 26,
   "id": "eb747b82-d250-4154-b953-322ccfe1f31f",
   "metadata": {},
   "outputs": [
    {
     "data": {
      "image/png": "[encoded data removed]",
      "text/plain": [
       "<Figure size 432x288 with 1 Axes>"
      ]
     },
     "metadata": {
      "needs_background": "light"
     },
     "output_type": "display_data"
    }
   ],
   "source": [
    "#drawing the realtionship between Hours and Scores\n",
    "sns.regplot(x=\"Hours\",y=\"Scores\",data=data,color='y')\n",
    "plt.show()"
   ]
  },
  {
   "cell_type": "markdown",
   "id": "540bbe47-b347-4b2e-9263-f2620a5430e2",
   "metadata": {},
   "source": [
    "## Training Linear Model:"
   ]
  },
  {
   "cell_type": "code",
   "execution_count": 11,
   "id": "0e116c7c-d5e0-4521-801a-adb6ac581f18",
   "metadata": {},
   "outputs": [],
   "source": [
    "#separating X (feature) from y (target variable)\n",
    "X=data.iloc[:,0:n-1]\n",
    "y=data.iloc[:,n-1]"
   ]
  },
  {
   "cell_type": "code",
   "execution_count": 12,
   "id": "7282c1a7-e1c5-4b6a-8013-8e736d57f0e6",
   "metadata": {},
   "outputs": [],
   "source": [
    "#Spliting the Hours_Score Dataset (70% (trainset) , 30% (testset))\n",
    "X_train, X_test, y_train, y_test=train_test_split(X,y,test_size=0.3, random_state=90)"
   ]
  },
  {
   "cell_type": "code",
   "execution_count": 13,
   "id": "f27f85e6-1cba-4648-8919-c8c5fb51ac28",
   "metadata": {},
   "outputs": [
    {
     "name": "stdout",
     "output_type": "stream",
     "text": [
      "Done\n"
     ]
    }
   ],
   "source": [
    "#Creating the model and fit it\n",
    "model=LinearRegression().fit(X_train,y_train)\n",
    "print(\"Done\")"
   ]
  },
  {
   "cell_type": "code",
   "execution_count": 14,
   "id": "5ec26370-be6f-4d77-937b-c1a4efd8d1e7",
   "metadata": {},
   "outputs": [],
   "source": [
    "y_predict=model.predict(X_train)"
   ]
  },
  {
   "cell_type": "code",
   "execution_count": 15,
   "id": "fd275be3-323e-4d26-9b01-e0d930f13c12",
   "metadata": {},
   "outputs": [
    {
     "name": "stdout",
     "output_type": "stream",
     "text": [
      "coefficient of determination (Training Score): 0.9412182244264513\n"
     ]
    }
   ],
   "source": [
    "r_training=model.score(X_train,y_train)\n",
    "print(\"coefficient of determination (Training Score):\",r_training)"
   ]
  },
  {
   "cell_type": "code",
   "execution_count": 27,
   "id": "e5d24db4-0f49-4bc9-8d59-ecafe3e917df",
   "metadata": {},
   "outputs": [
    {
     "data": {
      "text/plain": [
       "Text(0.5, 1.0, 'StudyHours vs Score (Training Set)')"
      ]
     },
     "execution_count": 27,
     "metadata": {},
     "output_type": "execute_result"
    },
    {
     "data": {
      "image/png": "[encoded data removed]",
      "text/plain": [
       "<Figure size 360x360 with 1 Axes>"
      ]
     },
     "metadata": {
      "needs_background": "light"
     },
     "output_type": "display_data"
    }
   ],
   "source": [
    "#drawing the best fit Line on the training set :\n",
    "fig=plt.figure(figsize=(5,5))\n",
    "plt.scatter(X_train,y_train)\n",
    "plt.plot(X_train,y_predict,c=\"c\")\n",
    "plt.xlabel(\"no. of study hours\")\n",
    "plt.ylabel(\"Score of student\")\n",
    "plt.title(\"StudyHours vs Score (Training Set)\")"
   ]
  },
  {
   "cell_type": "markdown",
   "id": "3d63bc80-df5f-4d35-9aad-f62db0891f8f",
   "metadata": {},
   "source": [
    "### Predictions on the Test Set"
   ]
  },
  {
   "cell_type": "code",
   "execution_count": 17,
   "id": "6dbaa648-df31-4bef-9b2f-ac6cdb69a65f",
   "metadata": {},
   "outputs": [],
   "source": [
    "y_test_pred=model.predict(X_test)"
   ]
  },
  {
   "cell_type": "code",
   "execution_count": 18,
   "id": "e61f9851-cea1-4804-bc5f-98b90eadc36e",
   "metadata": {},
   "outputs": [
    {
     "name": "stdout",
     "output_type": "stream",
     "text": [
      "coefficient of determination (Test Score): 0.9412182244264513\n"
     ]
    }
   ],
   "source": [
    "r_test=model.score(X_test,y_test)\n",
    "print(\"coefficient of determination (Test Score):\",r_training)"
   ]
  },
  {
   "cell_type": "code",
   "execution_count": 19,
   "id": "8af9e786-ee8d-4367-ba25-b660d58d371d",
   "metadata": {},
   "outputs": [
    {
     "data": {
      "text/html": [
       "<div>\n",
       "<style scoped>\n",
       "    .dataframe tbody tr th:only-of-type {\n",
       "        vertical-align: middle;\n",
       "    }\n",
       "\n",
       "    .dataframe tbody tr th {\n",
       "        vertical-align: top;\n",
       "    }\n",
       "\n",
       "    .dataframe thead th {\n",
       "        text-align: right;\n",
       "    }\n",
       "</style>\n",
       "<table border=\"1\" class=\"dataframe\">\n",
       "  <thead>\n",
       "    <tr style=\"text-align: right;\">\n",
       "      <th></th>\n",
       "      <th>Actual</th>\n",
       "      <th>predicted</th>\n",
       "    </tr>\n",
       "  </thead>\n",
       "  <tbody>\n",
       "    <tr>\n",
       "      <th>1</th>\n",
       "      <td>47</td>\n",
       "      <td>52.552649</td>\n",
       "    </tr>\n",
       "    <tr>\n",
       "      <th>22</th>\n",
       "      <td>35</td>\n",
       "      <td>39.670030</td>\n",
       "    </tr>\n",
       "    <tr>\n",
       "      <th>21</th>\n",
       "      <td>54</td>\n",
       "      <td>49.579737</td>\n",
       "    </tr>\n",
       "    <tr>\n",
       "      <th>20</th>\n",
       "      <td>30</td>\n",
       "      <td>28.769352</td>\n",
       "    </tr>\n",
       "    <tr>\n",
       "      <th>15</th>\n",
       "      <td>95</td>\n",
       "      <td>90.209536</td>\n",
       "    </tr>\n",
       "    <tr>\n",
       "      <th>6</th>\n",
       "      <td>88</td>\n",
       "      <td>93.182448</td>\n",
       "    </tr>\n",
       "    <tr>\n",
       "      <th>8</th>\n",
       "      <td>81</td>\n",
       "      <td>84.263712</td>\n",
       "    </tr>\n",
       "    <tr>\n",
       "      <th>16</th>\n",
       "      <td>30</td>\n",
       "      <td>26.787411</td>\n",
       "    </tr>\n",
       "  </tbody>\n",
       "</table>\n",
       "</div>"
      ],
      "text/plain": [
       "    Actual  predicted\n",
       "1       47  52.552649\n",
       "22      35  39.670030\n",
       "21      54  49.579737\n",
       "20      30  28.769352\n",
       "15      95  90.209536\n",
       "6       88  93.182448\n",
       "8       81  84.263712\n",
       "16      30  26.787411"
      ]
     },
     "execution_count": 19,
     "metadata": {},
     "output_type": "execute_result"
    }
   ],
   "source": [
    "#Comparing Actual and predicted\n",
    "Comp=pd.DataFrame({'Actual':y_test,'predicted':y_test_pred})\n",
    "Comp"
   ]
  },
  {
   "cell_type": "code",
   "execution_count": 30,
   "id": "34f4c6eb-9b60-4b1a-afb4-1045be96be10",
   "metadata": {},
   "outputs": [
    {
     "data": {
      "text/plain": [
       "Text(0.5, 1.0, 'StudyHours vs Score (Test set)')"
      ]
     },
     "execution_count": 30,
     "metadata": {},
     "output_type": "execute_result"
    },
    {
     "data": {
      "image/png": "[encoded data removed]",
      "text/plain": [
       "<Figure size 360x360 with 1 Axes>"
      ]
     },
     "metadata": {
      "needs_background": "light"
     },
     "output_type": "display_data"
    }
   ],
   "source": [
    "#Drawing the fit line on the test set\n",
    "fig=plt.figure(figsize=(5,5))\n",
    "plt.scatter(X_test,y_test)\n",
    "plt.plot(X_test,y_test_pred,c=\"r\")\n",
    "plt.xlabel(\"no. of study hours\")\n",
    "plt.ylabel(\"Score of student\")\n",
    "plt.title(\"StudyHours vs Score (Test set)\")"
   ]
  },
  {
   "cell_type": "markdown",
   "id": "841c42f2-334b-4fea-9523-962a8b027d83",
   "metadata": {},
   "source": [
    "## What will be predicted score if a student studies for 9.25 hrs/ day?"
   ]
  },
  {
   "cell_type": "code",
   "execution_count": 21,
   "id": "2bef9127-31c0-47b8-a67b-7b01adf3ab27",
   "metadata": {},
   "outputs": [
    {
     "name": "stdout",
     "output_type": "stream",
     "text": [
      " if a student studies for 9.25 hours/daye,he is most likely to score : 93.68 %\n"
     ]
    }
   ],
   "source": [
    "score = model.predict([[9.25]])[0]\n",
    "print(\" if a student studies for 9.25 hours/daye,he is most likely to score : {:.2f} %\".format(score))"
   ]
  }
 ],
 "metadata": {
  "kernelspec": {
   "display_name": "Python 3 (ipykernel)",
   "language": "python",
   "name": "python3"
  },
  "language_info": {
   "codemirror_mode": {
    "name": "ipython",
    "version": 3
   },
   "file_extension": ".py",
   "mimetype": "text/x-python",
   "name": "python",
   "nbconvert_exporter": "python",
   "pygments_lexer": "ipython3",
   "version": "3.9.7"
  }
 },
 "nbformat": 4,
 "nbformat_minor": 5
}
